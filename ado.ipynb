{
 "cells": [
  {
   "cell_type": "code",
   "execution_count": 17,
   "metadata": {},
   "outputs": [
    {
     "data": {
      "text/html": [
       "<style>#notebook-container, .container {width: 100%;}</style>"
      ],
      "text/plain": [
       "<IPython.core.display.HTML object>"
      ]
     },
     "execution_count": 17,
     "metadata": {},
     "output_type": "execute_result"
    }
   ],
   "source": [
    "    import jsonschema, aiohttp, uritemplate, dataclasses, jsonschema, collections, requests, networkx, pathlib, IPython, ruamel.yaml, \\\n",
    "    inspect, ujson as json, io, ibis, pandas, time, mimetypes, nbformat, aiofiles, aiohttp, nbformat, collections, functools\n",
    "    from toolz.curried import *\n",
    "    mime = compose(first, mimetypes.guess_type, str)            \n",
    "    Path = type(pathlib.Path(''))\n",
    "    def get_data(x): return x.data\n",
    "    IPython.display.HTML(\"\"\"<style>#notebook-container, .container {width: 100%;}</style>\"\"\")\n",
    "\n"
   ]
  },
  {
   "cell_type": "code",
   "execution_count": 18,
   "metadata": {},
   "outputs": [],
   "source": [
    "    mimetypes.add_type('application/x-ipynb+json', '.ipynb')\n",
    "    mimetypes.add_type('text/markdown', '.md')\n",
    "    mimetypes.add_type('text/markdown', '.markdown')\n",
    "    mimetypes.add_type('application/x-sqlite3', '.sqlite')\n",
    "    mimetypes.add_type('application/x-yaml', '.yml')\n",
    "    mimetypes.add_type('application/x-yaml', '.yaml')\n",
    "    mimetypes.add_type('application/json', '.json')"
   ]
  },
  {
   "cell_type": "code",
   "execution_count": 19,
   "metadata": {},
   "outputs": [],
   "source": [
    "    class URI(uritemplate.URITemplate, collections.UserList):\n",
    "        def __init__(self, uri, *data):\n",
    "            uritemplate.URITemplate.__init__(self, uri), collections.UserList.__init__(self, data or [{}])\n",
    "            \n",
    "        def __iter__(self): yield from map(partial(requests.Request, 'get'))(self.expand(**dict) for dict in self.data)"
   ]
  },
  {
   "cell_type": "code",
   "execution_count": 20,
   "metadata": {},
   "outputs": [],
   "source": [
    "    @dataclasses.dataclass\n",
    "    class Local:\n",
    "        glob: str \n",
    "        root: pathlib.Path = dataclasses.field(default=pathlib.Path())\n",
    "        def __iter__(self): yield from self.root.glob(self.glob)            "
   ]
  },
  {
   "cell_type": "code",
   "execution_count": 21,
   "metadata": {},
   "outputs": [],
   "source": [
    "    async def response(attr, *request, **data):\n",
    "        \"\"\"If something has a path to IPython.display.JSON\"\"\"\n",
    "        async with aiohttp.ClientSession() as session:\n",
    "            for url in map(requests.Request.prepare, request):\n",
    "                async with session.get(url) as response: data[url] = await getattr(response, attr)()\n",
    "        return data\n",
    "    \n",
    "    async def response_json(*requests): return await response('json', *requests)\n",
    "    async def response_text(*requests): return await response('text', *requests)"
   ]
  },
  {
   "cell_type": "code",
   "execution_count": 22,
   "metadata": {},
   "outputs": [],
   "source": [
    "    class Validate:\n",
    "        def __call__(self, object): return object"
   ]
  },
  {
   "cell_type": "code",
   "execution_count": 23,
   "metadata": {},
   "outputs": [],
   "source": [
    "    class Schema(jsonschema.Draft4Validator, Validate):\n",
    "        def validate(self, object):\n",
    "            try: return super().validate(object) or True\n",
    "            except jsonschema.ValidationError: return False\n",
    "        def __hash__(self): return hash(str(self.schema))"
   ]
  },
  {
   "cell_type": "code",
   "execution_count": 24,
   "metadata": {},
   "outputs": [],
   "source": [
    "    class Mime(collections.UserString, Validate):\n",
    "        def validate(self, object): \n",
    "            if isinstance(object, type(self)): return hash(object) == hash(self)\n",
    "            return self.data == mime(str(object))\n",
    "        def __hash__(self): return hash(self.data)"
   ]
  },
  {
   "cell_type": "code",
   "execution_count": 25,
   "metadata": {},
   "outputs": [],
   "source": [
    "    async def buffer(callable, path):\n",
    "        async with aiofiles.open(path, mode='r') as file:\n",
    "            if callable:\n",
    "                return await callable(file)\n",
    "            return file\n",
    "        \n",
    "    async def local_read(path): return await buffer(operator.methodcaller('read'), path)"
   ]
  },
  {
   "cell_type": "code",
   "execution_count": 26,
   "metadata": {},
   "outputs": [],
   "source": [
    "    nbschema = nbformat.validator._get_schema_json(nbformat.v4)['$schema']\n",
    "    jsonschema: nbschema"
   ]
  },
  {
   "cell_type": "code",
   "execution_count": 27,
   "metadata": {},
   "outputs": [],
   "source": [
    "    array = Schema({'type': 'array', '$schema': __annotations__['jsonschema']})\n",
    "    object = Schema({'type': 'object', '$schema': __annotations__['jsonschema']})\n",
    "    string = Schema({'type': 'string', '$schema': __annotations__['jsonschema']})"
   ]
  },
  {
   "cell_type": "code",
   "execution_count": 28,
   "metadata": {},
   "outputs": [],
   "source": [
    "    compact_source = lambda nb: nb.__setitem__('cells', [object.__setitem__('source', ''.join(object['source'])) or object for object in nb['cells']]) or nb"
   ]
  },
  {
   "cell_type": "code",
   "execution_count": 29,
   "metadata": {},
   "outputs": [],
   "source": [
    "    def yaml(path):\n",
    "        import yaml\n",
    "        with open(path) as file: return yaml.safe_load(file)"
   ]
  },
  {
   "cell_type": "code",
   "execution_count": 30,
   "metadata": {},
   "outputs": [],
   "source": [
    "    class Compose(networkx.DiGraph):\n",
    "        async def advance(self, object, *targets):\n",
    "            for target in targets:\n",
    "                paths = sorted(networkx.all_simple_paths(self, type(object), target), key=juxt(compose(flip(isinstance)(Validate), second), compose(len)), reverse=True)\n",
    "                if not paths: return object\n",
    "                prior = object\n",
    "                for this, next, *path in paths:\n",
    "                    if isinstance(next, Validate):\n",
    "                        if next.validate(object): this, next, *path = networkx.shortest_path(self, next, target); break\n",
    "                    else: break\n",
    "                object = next(object)\n",
    "                if inspect.isawaitable(object): object = await object\n",
    "                if type(object) == target: continue\n",
    "                object = await self.advance(object, target)      \n",
    "            return object\n",
    "        \n",
    "        async def __call__(self, target, *patterns, **data):\n",
    "            if not isiterable(target): target = target,\n",
    "            for pattern in patterns:\n",
    "                if not isiterable(pattern): pattern = pattern,\n",
    "                for object in pattern: data[object] = await self.advance(object, *target)\n",
    "            return data"
   ]
  },
  {
   "cell_type": "code",
   "execution_count": 31,
   "metadata": {},
   "outputs": [],
   "source": [
    "    graph = Compose()\n",
    "    graph.add_path([Path, local_read, str, json.loads, array])\n",
    "    graph.add_path([json.loads, object, dict, pandas.Series])\n",
    "    graph.add_path([json.loads, array, list])\n",
    "    graph.add_path([requests.Request, response_text, str])\n",
    "    graph.add_path([requests.Request, response_json, array, list, IPython.display.JSON])\n",
    "    graph.add_path([requests.Request, response_json, object, dict, IPython.display.JSON])\n",
    "    graph.add_path([Path, Mime('application/x-yaml'), yaml])\n",
    "    graph.add_path([yaml, array])\n",
    "    graph.add_path([yaml, object])\n",
    "    graph.add_path([Path, Mime('text/csv'), pandas.read_csv, pandas.DataFrame])\n",
    "    graph.add_path([Path, Mime('text/markdown'), IPython.display.Markdown, get_data, str])\n",
    "    graph.add_path([IPython.display.Markdown, get_data, __import__('mistune').markdown, IPython.display.HTML])\n",
    "    graph.add_path([str, __import__('jinja2').Template])\n",
    "    graph.add_path([str, __import__('string').Template])\n",
    "    graph.add_path([dict, pandas.Series, pandas.DataFrame])\n",
    "    graph.add_path([dict, nbformat.from_dict, compact_source, nbformat.NotebookNode, dict])\n",
    "    graph.add_path([nbformat.NotebookNode, dict, pandas.Series])\n",
    "    graph.add_path([IPython.display.HTML, get_data, pandas.read_html, pandas.Series])\n",
    "    graph.add_path([Path, Mime('text/html'), pandas.read_html])"
   ]
  },
  {
   "cell_type": "code",
   "execution_count": 32,
   "metadata": {},
   "outputs": [
    {
     "data": {
      "text/plain": [
       "{PosixPath('ado.ipynb'): '{\\n \"cells\": [\\n  {\\n   \"cell_type\": \"code\",\\n   \"execution_count\": 1,\\n   \"metadata\": {},\\n   \"outputs\": [\\n    {\\n     \"data\": {\\n      \"text/html\": [\\n       \"<style>#notebook-container, .container {width: 1'}"
      ]
     },
     "execution_count": 32,
     "metadata": {},
     "output_type": "execute_result"
    }
   ],
   "source": [
    "    pipe(\n",
    "        await graph(str, Path('ado.ipynb')), valmap(compose(''.join, take(200)))\n",
    "    )"
   ]
  },
  {
   "cell_type": "markdown",
   "metadata": {},
   "source": [
    "dict"
   ]
  },
  {
   "cell_type": "code",
   "execution_count": 33,
   "metadata": {},
   "outputs": [
    {
     "data": {
      "text/plain": [
       "{PosixPath('ado.ipynb'): {'cell_type': 'code',\n",
       "  'execution_count': 17,\n",
       "  'metadata': {},\n",
       "  'outputs': [{'data': {'text/html': ['<style>#notebook-container, .container {width: 100%;}</style>'],\n",
       "     'text/plain': ['<IPython.core.display.HTML object>']},\n",
       "    'execution_count': 17,\n",
       "    'metadata': {},\n",
       "    'output_type': 'execute_result'}],\n",
       "  'source': ['    import jsonschema, aiohttp, uritemplate, dataclasses, jsonschema, collections, requests, networkx, pathlib, IPython, ruamel.yaml, \\\\\\n',\n",
       "   '    inspect, ujson as json, io, ibis, pandas, time, mimetypes, nbformat, aiofiles, aiohttp, nbformat, collections, functools\\n',\n",
       "   '    from toolz.curried import *\\n',\n",
       "   '    mime = compose(first, mimetypes.guess_type, str)            \\n',\n",
       "   \"    Path = type(pathlib.Path(''))\\n\",\n",
       "   '    def get_data(x): return x.data\\n',\n",
       "   '    IPython.display.HTML(\"\"\"<style>#notebook-container, .container {width: 100%;}</style>\"\"\")\\n',\n",
       "   '\\n']}}"
      ]
     },
     "execution_count": 33,
     "metadata": {},
     "output_type": "execute_result"
    }
   ],
   "source": [
    "    pipe(\n",
    "        await graph(dict, Path('ado.ipynb')), valmap(compose(first, get('cells')))\n",
    "    )"
   ]
  },
  {
   "cell_type": "markdown",
   "metadata": {},
   "source": [
    "NotebooNode"
   ]
  },
  {
   "cell_type": "code",
   "execution_count": 34,
   "metadata": {},
   "outputs": [
    {
     "data": {
      "text/plain": [
       "{PosixPath('ado.ipynb'): {'cell_type': 'code',\n",
       "  'execution_count': 19,\n",
       "  'metadata': {},\n",
       "  'outputs': [],\n",
       "  'source': ['    class URI(uritemplate.URITemplate, collections.UserList):\\n',\n",
       "   '        def __init__(self, uri, *data):\\n',\n",
       "   '            uritemplate.URITemplate.__init__(self, uri), collections.UserList.__init__(self, data or [{}])\\n',\n",
       "   '            \\n',\n",
       "   \"        def __iter__(self): yield from map(partial(requests.Request, 'get'))(self.expand(**dict) for dict in self.data)\"]}}"
      ]
     },
     "execution_count": 34,
     "metadata": {},
     "output_type": "execute_result"
    }
   ],
   "source": [
    "    pipe(\n",
    "        await graph(nbformat.NotebookNode, Path('ado.ipynb')), valmap(compose(first, drop(2), operator.attrgetter('cells')))\n",
    "    )"
   ]
  },
  {
   "cell_type": "markdown",
   "metadata": {},
   "source": [
    "JSON"
   ]
  },
  {
   "cell_type": "code",
   "execution_count": 35,
   "metadata": {},
   "outputs": [
    {
     "data": {
      "text/plain": [
       "{PosixPath('ado.ipynb'): <IPython.core.display.JSON object>}"
      ]
     },
     "execution_count": 35,
     "metadata": {},
     "output_type": "execute_result"
    }
   ],
   "source": [
    "    await graph(IPython.display.JSON, Path('ado.ipynb'))"
   ]
  },
  {
   "cell_type": "markdown",
   "metadata": {},
   "source": [
    "Series"
   ]
  },
  {
   "cell_type": "code",
   "execution_count": 36,
   "metadata": {
    "scrolled": false
   },
   "outputs": [
    {
     "data": {
      "text/plain": [
       "{PosixPath('ado.ipynb'): cells             [{'cell_type': 'code', 'execution_count': 17, ...\n",
       " metadata          {'kernelspec': {'display_name': 'p6', 'languag...\n",
       " nbformat                                                          4\n",
       " nbformat_minor                                                    2\n",
       " dtype: object}"
      ]
     },
     "execution_count": 36,
     "metadata": {},
     "output_type": "execute_result"
    }
   ],
   "source": [
    "    await graph([dict, nbformat.NotebookNode, pandas.Series], Path('ado.ipynb'))"
   ]
  },
  {
   "cell_type": "markdown",
   "metadata": {},
   "source": [
    "DataFrame"
   ]
  },
  {
   "cell_type": "code",
   "execution_count": 37,
   "metadata": {
    "scrolled": false
   },
   "outputs": [
    {
     "data": {
      "text/plain": [
       "{PosixPath('ado.ipynb'):                                                                 0\n",
       " cells           [{'cell_type': 'code', 'execution_count': 17, ...\n",
       " metadata        {'kernelspec': {'display_name': 'p6', 'languag...\n",
       " nbformat                                                        4\n",
       " nbformat_minor                                                  2}"
      ]
     },
     "execution_count": 37,
     "metadata": {},
     "output_type": "execute_result"
    }
   ],
   "source": [
    "    await graph([dict, nbformat.NotebookNode, pandas.DataFrame], Path('ado.ipynb'))"
   ]
  },
  {
   "cell_type": "markdown",
   "metadata": {},
   "source": [
    "Another kind of file"
   ]
  },
  {
   "cell_type": "code",
   "execution_count": 38,
   "metadata": {},
   "outputs": [
    {
     "data": {
      "text/html": [
       "<div>\n",
       "<style scoped>\n",
       "    .dataframe tbody tr th:only-of-type {\n",
       "        vertical-align: middle;\n",
       "    }\n",
       "\n",
       "    .dataframe tbody tr th {\n",
       "        vertical-align: top;\n",
       "    }\n",
       "\n",
       "    .dataframe thead tr th {\n",
       "        text-align: left;\n",
       "    }\n",
       "</style>\n",
       "<table border=\"1\" class=\"dataframe\">\n",
       "  <thead>\n",
       "    <tr>\n",
       "      <th></th>\n",
       "      <th colspan=\"21\" halign=\"left\">data.csv</th>\n",
       "    </tr>\n",
       "    <tr>\n",
       "      <th></th>\n",
       "      <th>0</th>\n",
       "      <th>1</th>\n",
       "      <th>2</th>\n",
       "      <th>3</th>\n",
       "      <th>4</th>\n",
       "      <th>5</th>\n",
       "      <th>6</th>\n",
       "      <th>7</th>\n",
       "      <th>8</th>\n",
       "      <th>9</th>\n",
       "      <th>...</th>\n",
       "      <th>20</th>\n",
       "      <th>21</th>\n",
       "      <th>22</th>\n",
       "      <th>23</th>\n",
       "      <th>24</th>\n",
       "      <th>25</th>\n",
       "      <th>26</th>\n",
       "      <th>27</th>\n",
       "      <th>28</th>\n",
       "      <th>29</th>\n",
       "    </tr>\n",
       "  </thead>\n",
       "  <tbody>\n",
       "    <tr>\n",
       "      <th>Unnamed: 0</th>\n",
       "      <td>0</td>\n",
       "      <td>1</td>\n",
       "      <td>2</td>\n",
       "      <td>3</td>\n",
       "      <td>4</td>\n",
       "      <td>5</td>\n",
       "      <td>6</td>\n",
       "      <td>7</td>\n",
       "      <td>8</td>\n",
       "      <td>9</td>\n",
       "      <td>...</td>\n",
       "      <td>20</td>\n",
       "      <td>21</td>\n",
       "      <td>22</td>\n",
       "      <td>23</td>\n",
       "      <td>24</td>\n",
       "      <td>25</td>\n",
       "      <td>26</td>\n",
       "      <td>27</td>\n",
       "      <td>28</td>\n",
       "      <td>29</td>\n",
       "    </tr>\n",
       "    <tr>\n",
       "      <th>index</th>\n",
       "      <td>ZRRVgPxAbg</td>\n",
       "      <td>qGdbMygKUl</td>\n",
       "      <td>MFEpsjeg81</td>\n",
       "      <td>Bc5QYEyyvO</td>\n",
       "      <td>HmTeNtf2KE</td>\n",
       "      <td>64XpwGGKX4</td>\n",
       "      <td>FDGUaeSGrl</td>\n",
       "      <td>9bnZ4FYWx2</td>\n",
       "      <td>AwjEKKungG</td>\n",
       "      <td>NXaBII16Fj</td>\n",
       "      <td>...</td>\n",
       "      <td>xwTl85EoQF</td>\n",
       "      <td>vXzvHqbkN9</td>\n",
       "      <td>HIVHjSMo0C</td>\n",
       "      <td>2P90ZEkuB4</td>\n",
       "      <td>t78MDAdN8q</td>\n",
       "      <td>twVQDkT4Ml</td>\n",
       "      <td>J3Xm342gpK</td>\n",
       "      <td>A0PPGcOKtR</td>\n",
       "      <td>NnuL0L7diK</td>\n",
       "      <td>Q8ZNWO1pjT</td>\n",
       "    </tr>\n",
       "    <tr>\n",
       "      <th>A</th>\n",
       "      <td>-1.13811</td>\n",
       "      <td>0.932169</td>\n",
       "      <td>-0.278003</td>\n",
       "      <td>-0.315296</td>\n",
       "      <td>-0.41495</td>\n",
       "      <td>-1.29303</td>\n",
       "      <td>0.0666345</td>\n",
       "      <td>-1.32863</td>\n",
       "      <td>0.86664</td>\n",
       "      <td>0.414605</td>\n",
       "      <td>...</td>\n",
       "      <td>0.375973</td>\n",
       "      <td>-0.666088</td>\n",
       "      <td>-1.82705</td>\n",
       "      <td>-0.624332</td>\n",
       "      <td>-0.0506713</td>\n",
       "      <td>-2.76588</td>\n",
       "      <td>0.682396</td>\n",
       "      <td>-1.15344</td>\n",
       "      <td>0.899535</td>\n",
       "      <td>1.21765</td>\n",
       "    </tr>\n",
       "    <tr>\n",
       "      <th>B</th>\n",
       "      <td>-0.554226</td>\n",
       "      <td>0.0662085</td>\n",
       "      <td>0.804182</td>\n",
       "      <td>-0.558954</td>\n",
       "      <td>-0.107526</td>\n",
       "      <td>-0.275852</td>\n",
       "      <td>-1.17587</td>\n",
       "      <td>0.703497</td>\n",
       "      <td>-1.45832</td>\n",
       "      <td>0.481333</td>\n",
       "      <td>...</td>\n",
       "      <td>-0.327619</td>\n",
       "      <td>1.51967</td>\n",
       "      <td>-1.29964</td>\n",
       "      <td>0.876575</td>\n",
       "      <td>-0.110464</td>\n",
       "      <td>1.14753</td>\n",
       "      <td>0.725946</td>\n",
       "      <td>-0.980484</td>\n",
       "      <td>0.761013</td>\n",
       "      <td>0.424012</td>\n",
       "    </tr>\n",
       "    <tr>\n",
       "      <th>C</th>\n",
       "      <td>-0.303604</td>\n",
       "      <td>-1.12484</td>\n",
       "      <td>0.845789</td>\n",
       "      <td>0.703738</td>\n",
       "      <td>-0.243205</td>\n",
       "      <td>-2.29765</td>\n",
       "      <td>0.392907</td>\n",
       "      <td>-1.57246</td>\n",
       "      <td>0.891363</td>\n",
       "      <td>-2.16405</td>\n",
       "      <td>...</td>\n",
       "      <td>-0.761711</td>\n",
       "      <td>0.84413</td>\n",
       "      <td>-0.0749852</td>\n",
       "      <td>-0.3664</td>\n",
       "      <td>-0.135025</td>\n",
       "      <td>-1.64376</td>\n",
       "      <td>-1.62894</td>\n",
       "      <td>-0.145673</td>\n",
       "      <td>0.274579</td>\n",
       "      <td>0.282331</td>\n",
       "    </tr>\n",
       "    <tr>\n",
       "      <th>D</th>\n",
       "      <td>-0.304571</td>\n",
       "      <td>1.18461</td>\n",
       "      <td>-0.477547</td>\n",
       "      <td>-0.816047</td>\n",
       "      <td>0.85921</td>\n",
       "      <td>-0.366217</td>\n",
       "      <td>-0.426007</td>\n",
       "      <td>0.137321</td>\n",
       "      <td>-1.17364</td>\n",
       "      <td>-0.597233</td>\n",
       "      <td>...</td>\n",
       "      <td>-0.00921832</td>\n",
       "      <td>-0.409743</td>\n",
       "      <td>0.755613</td>\n",
       "      <td>-1.8391</td>\n",
       "      <td>0.340917</td>\n",
       "      <td>2.17179</td>\n",
       "      <td>-0.0148665</td>\n",
       "      <td>-1.59233</td>\n",
       "      <td>0.278727</td>\n",
       "      <td>1.1311</td>\n",
       "    </tr>\n",
       "  </tbody>\n",
       "</table>\n",
       "<p>6 rows × 30 columns</p>\n",
       "</div>"
      ],
      "text/plain": [
       "              data.csv                                                  \\\n",
       "                    0           1           2           3           4    \n",
       "Unnamed: 0           0           1           2           3           4   \n",
       "index       ZRRVgPxAbg  qGdbMygKUl  MFEpsjeg81  Bc5QYEyyvO  HmTeNtf2KE   \n",
       "A             -1.13811    0.932169   -0.278003   -0.315296    -0.41495   \n",
       "B            -0.554226   0.0662085    0.804182   -0.558954   -0.107526   \n",
       "C            -0.303604    -1.12484    0.845789    0.703738   -0.243205   \n",
       "D            -0.304571     1.18461   -0.477547   -0.816047     0.85921   \n",
       "\n",
       "                                                                        ...  \\\n",
       "                    5           6           7           8           9   ...   \n",
       "Unnamed: 0           5           6           7           8           9  ...   \n",
       "index       64XpwGGKX4  FDGUaeSGrl  9bnZ4FYWx2  AwjEKKungG  NXaBII16Fj  ...   \n",
       "A             -1.29303   0.0666345    -1.32863     0.86664    0.414605  ...   \n",
       "B            -0.275852    -1.17587    0.703497    -1.45832    0.481333  ...   \n",
       "C             -2.29765    0.392907    -1.57246    0.891363    -2.16405  ...   \n",
       "D            -0.366217   -0.426007    0.137321    -1.17364   -0.597233  ...   \n",
       "\n",
       "                                                                        \\\n",
       "                    20          21          22          23          24   \n",
       "Unnamed: 0          20          21          22          23          24   \n",
       "index       xwTl85EoQF  vXzvHqbkN9  HIVHjSMo0C  2P90ZEkuB4  t78MDAdN8q   \n",
       "A             0.375973   -0.666088    -1.82705   -0.624332  -0.0506713   \n",
       "B            -0.327619     1.51967    -1.29964    0.876575   -0.110464   \n",
       "C            -0.761711     0.84413  -0.0749852     -0.3664   -0.135025   \n",
       "D          -0.00921832   -0.409743    0.755613     -1.8391    0.340917   \n",
       "\n",
       "                                                                        \n",
       "                    25          26          27          28          29  \n",
       "Unnamed: 0          25          26          27          28          29  \n",
       "index       twVQDkT4Ml  J3Xm342gpK  A0PPGcOKtR  NnuL0L7diK  Q8ZNWO1pjT  \n",
       "A             -2.76588    0.682396    -1.15344    0.899535     1.21765  \n",
       "B              1.14753    0.725946   -0.980484    0.761013    0.424012  \n",
       "C             -1.64376    -1.62894   -0.145673    0.274579    0.282331  \n",
       "D              2.17179  -0.0148665    -1.59233    0.278727      1.1311  \n",
       "\n",
       "[6 rows x 30 columns]"
      ]
     },
     "execution_count": 38,
     "metadata": {},
     "output_type": "execute_result"
    }
   ],
   "source": [
    "    pipe(await graph(pandas.DataFrame, pathlib.Path('data.csv')), pandas.concat).T"
   ]
  },
  {
   "cell_type": "markdown",
   "metadata": {},
   "source": [
    "Await a bunch of traversals."
   ]
  },
  {
   "cell_type": "markdown",
   "metadata": {},
   "source": [
    "Single path."
   ]
  },
  {
   "cell_type": "code",
   "execution_count": 39,
   "metadata": {},
   "outputs": [
    {
     "data": {
      "text/plain": [
       "'444 files in 1.3590137958526611 seconds'"
      ]
     },
     "execution_count": 39,
     "metadata": {},
     "output_type": "execute_result"
    }
   ],
   "source": [
    "    t = time.time()\n",
    "    l = await graph(pandas.Series, Local('*.ipynb'))\n",
    "    t = time.time()-t; F\"{len(l)} files in {t} seconds\""
   ]
  },
  {
   "cell_type": "markdown",
   "metadata": {},
   "source": [
    "Mixed paths"
   ]
  },
  {
   "cell_type": "code",
   "execution_count": null,
   "metadata": {},
   "outputs": [],
   "source": [
    "    t = time.time()\n",
    "    l = await graph(pandas.Series, Local('*.ipynb'), Local('*.yml'), Local('*.yaml'))\n",
    "    t = time.time()-t; F\"{len(l)} files in {t} seconds\""
   ]
  },
  {
   "cell_type": "markdown",
   "metadata": {},
   "source": [
    "All the data together"
   ]
  },
  {
   "cell_type": "code",
   "execution_count": null,
   "metadata": {},
   "outputs": [],
   "source": [
    "    pandas.concat(l).unstack().T"
   ]
  },
  {
   "cell_type": "markdown",
   "metadata": {},
   "source": [
    "The transforms"
   ]
  },
  {
   "cell_type": "code",
   "execution_count": null,
   "metadata": {},
   "outputs": [],
   "source": [
    "    __import__('graphviz').Source(networkx.nx_pydot.to_pydot(graph).create_dot().decode('utf-8'))"
   ]
  },
  {
   "cell_type": "code",
   "execution_count": null,
   "metadata": {},
   "outputs": [],
   "source": []
  }
 ],
 "metadata": {
  "kernelspec": {
   "display_name": "p6",
   "language": "python",
   "name": "other-env"
  },
  "varInspector": {
   "cols": {
    "lenName": 16,
    "lenType": 16,
    "lenVar": 40
   },
   "kernels_config": {
    "python": {
     "delete_cmd_postfix": "",
     "delete_cmd_prefix": "del ",
     "library": "var_list.py",
     "varRefreshCmd": "print(var_dic_list())"
    },
    "r": {
     "delete_cmd_postfix": ") ",
     "delete_cmd_prefix": "rm(",
     "library": "var_list.r",
     "varRefreshCmd": "cat(var_dic_list()) "
    }
   },
   "types_to_exclude": [
    "module",
    "function",
    "builtin_function_or_method",
    "instance",
    "_Feature"
   ],
   "window_display": false
  }
 },
 "nbformat": 4,
 "nbformat_minor": 2
}
