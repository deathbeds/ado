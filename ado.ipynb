{
 "cells": [
  {
   "cell_type": "code",
   "execution_count": 1,
   "metadata": {},
   "outputs": [
    {
     "data": {
      "text/html": [
       "<style>#notebook-container, .container {width: 100%;}</style>"
      ],
      "text/plain": [
       "<IPython.core.display.HTML object>"
      ]
     },
     "execution_count": 1,
     "metadata": {},
     "output_type": "execute_result"
    }
   ],
   "source": [
    "    import jsonschema, aiohttp, fnmatch, uritemplate, dataclasses, builtins, jsonschema, matplotlib, collections, requests, networkx, pathlib, IPython, ruamel.yaml, \\\n",
    "    inspect, ujson as json, io, ibis, pandas, time, mimetypes, nbformat, aiofiles, aiohttp, nbformat, collections, functools\n",
    "    from toolz.curried import *\n",
    "    mime = compose(first, mimetypes.guess_type, str)            \n",
    "    Path = type(pathlib.Path(''))\n",
    "    def get_data(x): return x.data\n",
    "    IPython.display.HTML(\"\"\"<style>#notebook-container, .container {width: 100%;}</style>\"\"\")\n",
    "\n"
   ]
  },
  {
   "cell_type": "code",
   "execution_count": 3,
   "metadata": {},
   "outputs": [],
   "source": [
    "    async def response(attr, url, **data):\n",
    "        \"\"\"If something has a path to IPython.display.JSON\"\"\"\n",
    "        async with aiohttp.ClientSession() as session:\n",
    "            async with session.get(url) as response: return await getattr(response, attr)()\n",
    "    \n",
    "    async def response_json(url): return await response('json', url)\n",
    "    async def response_text(url): return await response('text', url)"
   ]
  },
  {
   "cell_type": "code",
   "execution_count": 4,
   "metadata": {},
   "outputs": [],
   "source": [
    "    async def buffer(callable, path):\n",
    "        async with aiofiles.open(path, mode='r') as file:\n",
    "            if callable: return await callable(file)\n",
    "            return file\n",
    "        \n",
    "    async def local_text(path): return await buffer(operator.methodcaller('read'), path)\n",
    "    async def local_json(path): return json.loads(await local_text(path))"
   ]
  },
  {
   "cell_type": "code",
   "execution_count": 5,
   "metadata": {},
   "outputs": [],
   "source": [
    "    class Validate:\n",
    "        def __hash__(self): return hash(str(self.data))\n",
    "        def __len__(self): return len(self.data)\n",
    "        \n",
    "    @dataclasses.dataclass(unsafe_hash=True)\n",
    "    class Mime(Validate, collections.UserString):\n",
    "        data: object = ''\n",
    "        callable: callable = None\n",
    "        async def __call__(self, object): \n",
    "            if self.callable:\n",
    "                object = self.callable (object) \n",
    "                if inspect.isawaitable(object): object = await object\n",
    "            return object\n",
    "\n",
    "        def validate(self, object): \n",
    "            if isinstance(object, type(self)): return hash(object) == hash(self)\n",
    "            return not self.data or self.data == mime(str(object))"
   ]
  },
  {
   "cell_type": "code",
   "execution_count": 6,
   "metadata": {},
   "outputs": [],
   "source": [
    "    Text = Mime(callable=local_text)\n",
    "    JSON = Mime(mime(' .json'), callable=local_json)"
   ]
  },
  {
   "cell_type": "code",
   "execution_count": 7,
   "metadata": {},
   "outputs": [],
   "source": [
    "    class Schema(jsonschema.Draft4Validator, Validate):\n",
    "        @property\n",
    "        def data(self): return self.schema\n",
    "        def validate(self, object):\n",
    "            if isinstance(object, type(self)): return hash(object) == hash(self)\n",
    "            try: return super().validate(object) or True\n",
    "            except jsonschema.ValidationError: return False\n",
    "        async def __call__(self, object): return object"
   ]
  },
  {
   "cell_type": "code",
   "execution_count": 8,
   "metadata": {},
   "outputs": [],
   "source": [
    "    class Composition(networkx.DiGraph):\n",
    "        async def paths(self, target, object):\n",
    "            paths, mro = [], list(inspect.getmro(type(object)))\n",
    "            while mro:\n",
    "                klass, path_ = mro.pop(0), []\n",
    "                if klass is builtins.object: break\n",
    "                for method in (networkx.all_simple_paths, networkx.all_shortest_paths):\n",
    "                    try: path_ += [object for object in method(self, klass, target) if len(object)>1]\n",
    "                    except (networkx.NodeNotFound, networkx.NetworkXNoPath): ...\n",
    "                paths += pipe(path_, map(take(2)), map(tuple), list, unique, list, partial(sorted, key=lambda x: (\n",
    "                    len(x[1]) if isinstance(x[1], Validate) else 0, \n",
    "                    -(bool(getattr(x[1], 'callable', x[1])) if isinstance(x[1], Validate) else 10))))\n",
    "            return paths\n",
    "\n",
    "            \n",
    "        async def advance(self, *targets, object):\n",
    "            for target in targets:\n",
    "                if target not in self: object = target(object); continue\n",
    "                if not networkx.has_path(self, type(object), target): break\n",
    "                \n",
    "                callable, target = target, target.func if isinstance(target, functools.partial) else target\n",
    "                prior, paths = object, await self.paths(target, object)\n",
    "                if not paths: continue\n",
    "                \n",
    "                for this, next in paths:\n",
    "                    if isinstance(next, Validate):\n",
    "                        if next.validate(object): \n",
    "                            object, (this, next, *_) = await next(object), networkx.shortest_path(self, next, target)\n",
    "                            break\n",
    "                    else: break\n",
    "                if next == target: next = callable    \n",
    "                if next is builtins.object: continue\n",
    "                    \n",
    "                \n",
    "                object = next() if object is None else next(object)                \n",
    "                if inspect.isawaitable(object): object = await object\n",
    "                    \n",
    "                if next == target: continue\n",
    "                elif isinstance(target, type):\n",
    "                    if isinstance(type(object), target): continue\n",
    "                else:\n",
    "                    try:\n",
    "                        if object == target: continue\n",
    "                    except ValueError: ...\n",
    "                        \n",
    "                \n",
    "                object = await self.advance(target, object=object)      \n",
    "            return object\n",
    "        \n",
    "        async def __call__(self, target, *object, keys=True, **data, ):\n",
    "            if not object: object = None,\n",
    "            if not isiterable(target): target = target,\n",
    "            value = [\n",
    "                await self.advance(*target, object=object) for object in object\n",
    "            ]\n",
    "            if keys: return dict(zip(object, value))\n",
    "            return value"
   ]
  },
  {
   "cell_type": "code",
   "execution_count": 9,
   "metadata": {},
   "outputs": [],
   "source": [
    "    mimetypes.add_type('application/x-ipynb+json', '.ipynb')\n",
    "    mimetypes.add_type('text/markdown', '.md')\n",
    "    mimetypes.add_type('text/markdown', '.markdown')\n",
    "    mimetypes.add_type('application/x-sqlite3', '.sqlite')\n",
    "    mimetypes.add_type('application/x-yaml', '.yml')\n",
    "    mimetypes.add_type('application/x-yaml', '.yaml')\n",
    "    mimetypes.add_type('application/json', '.json')"
   ]
  },
  {
   "cell_type": "code",
   "execution_count": 10,
   "metadata": {},
   "outputs": [],
   "source": [
    "    array = Schema({'type': 'array'})\n",
    "    object_ = Schema({'type': 'object'})\n",
    "    string = Schema({'type': 'string'})\n",
    "    number = Schema({'type': 'number'})\n",
    "    null = Schema({'type': 'null'})"
   ]
  },
  {
   "cell_type": "code",
   "execution_count": 44,
   "metadata": {},
   "outputs": [],
   "source": [
    "    core = Composition()\n",
    "    core.add_path([Path, Text, str])\n",
    "    core.add_path([Path, JSON, object, object_, dict, json.dumps, str])\n",
    "    core.add_path([Path, JSON, object, array, list, json.dumps])\n",
    "    core.add_path([Path, JSON, object, string, str])\n",
    "    core.add_path([Path, JSON, object, number, float, json.dumps])\n",
    "    core.add_path([Path, Mime('application/x-ipynb+json', callable=local_json), nbformat.from_dict, nbformat.NotebookNode, dict])\n",
    "    \n",
    "    ado = core"
   ]
  },
  {
   "cell_type": "code",
   "execution_count": 45,
   "metadata": {},
   "outputs": [
    {
     "data": {
      "text/plain": [
       "[(pathlib.PosixPath,\n",
       "  Mime(data='application/json', callable=<function local_json at 0x1524fa8378>))]"
      ]
     },
     "execution_count": 45,
     "metadata": {},
     "output_type": "execute_result"
    }
   ],
   "source": [
    "    await ado.paths(object, Path('data.json'))"
   ]
  },
  {
   "cell_type": "code",
   "execution_count": 47,
   "metadata": {},
   "outputs": [
    {
     "data": {
      "text/plain": [
       "{PosixPath('fastapi-openapi-context.ipynb'): dict_keys(['cells', 'metadata', 'nbformat', 'nbformat_minor'])}"
      ]
     },
     "execution_count": 47,
     "metadata": {},
     "output_type": "execute_result"
    }
   ],
   "source": [
    "    await ado((dict, dict.keys), Path('fastapi-openapi-context.ipynb'))"
   ]
  },
  {
   "cell_type": "code",
   "execution_count": 48,
   "metadata": {},
   "outputs": [
    {
     "data": {
      "text/plain": [
       "{PosixPath('fastapi-openapi-context.ipynb'): (nbformat.notebooknode.NotebookNode,\n",
       "  dict_keys(['cells', 'metadata', 'nbformat', 'nbformat_minor']))}"
      ]
     },
     "execution_count": 48,
     "metadata": {},
     "output_type": "execute_result"
    }
   ],
   "source": [
    "    await ado((nbformat.NotebookNode, juxt(type, dict.keys)), Path('fastapi-openapi-context.ipynb'))"
   ]
  },
  {
   "cell_type": "code",
   "execution_count": 49,
   "metadata": {},
   "outputs": [
    {
     "data": {
      "text/plain": [
       "{PosixPath('data.json'): '{\"index\":{\"0\":\"ZRRVgPxAbg\",\"1\":\"qGdbMygKUl\",\"2\":\"MFEpsjeg81\",\"3\":\"Bc5QYEyyvO\",\"4\":\"HmTeNtf2KE\",\"5\":\"'}"
      ]
     },
     "execution_count": 49,
     "metadata": {},
     "output_type": "execute_result"
    }
   ],
   "source": [
    "    await ado((str, get(slice(100))), Path('data.json'))"
   ]
  },
  {
   "cell_type": "code",
   "execution_count": 50,
   "metadata": {},
   "outputs": [
    {
     "data": {
      "text/plain": [
       "[(pathlib.PosixPath,\n",
       "  Mime(data='application/json', callable=<function local_json at 0x1524fa8378>)),\n",
       " (pathlib.PosixPath,\n",
       "  Mime(data='application/x-ipynb+json', callable=<function local_json at 0x1524fa8378>))]"
      ]
     },
     "execution_count": 50,
     "metadata": {},
     "output_type": "execute_result"
    }
   ],
   "source": [
    "    await ado.paths(dict, Path('data.json'))"
   ]
  },
  {
   "cell_type": "code",
   "execution_count": 51,
   "metadata": {},
   "outputs": [
    {
     "data": {
      "text/plain": [
       "{PosixPath('data.json'): dict_keys(['index', 'A', 'B', 'C', 'D'])}"
      ]
     },
     "execution_count": 51,
     "metadata": {},
     "output_type": "execute_result"
    }
   ],
   "source": [
    "    await ado((dict, dict.keys), Path('data.json'))"
   ]
  },
  {
   "cell_type": "code",
   "execution_count": 52,
   "metadata": {},
   "outputs": [],
   "source": [
    "    try: await ado(dict, Path('.travis.yml')); assert False, \"Say it ain't so.\"\n",
    "    except ValueError: ..."
   ]
  },
  {
   "cell_type": "code",
   "execution_count": 66,
   "metadata": {},
   "outputs": [],
   "source": [
    "    yaml = Composition()\n",
    "    yaml.add_path([Path, Mime('application/x-yaml', callable=local_text), io.StringIO, __import__('yaml').safe_load, object])\n",
    "    ado = networkx.compose(ado, yaml)"
   ]
  },
  {
   "cell_type": "code",
   "execution_count": 67,
   "metadata": {},
   "outputs": [
    {
     "data": {
      "text/plain": [
       "{PosixPath('.travis.yml'): dict_keys(['language', 'python', 'install', 'script', 'deploy'])}"
      ]
     },
     "execution_count": 67,
     "metadata": {},
     "output_type": "execute_result"
    }
   ],
   "source": [
    "    await ado((dict, dict.keys), Path('.travis.yml'))"
   ]
  },
  {
   "cell_type": "code",
   "execution_count": 68,
   "metadata": {},
   "outputs": [
    {
     "data": {
      "text/plain": [
       "{PosixPath('.travis.yml'): \"language: python\\npython:\\n- '3.6'\\n- 3.6-dev\\ninstall:\\n- python setup.py sdist bdist_wheel\\n- pip instal\"}"
      ]
     },
     "execution_count": 68,
     "metadata": {},
     "output_type": "execute_result"
    }
   ],
   "source": [
    "    await ado((str, get(slice(100))), Path('.travis.yml'))"
   ]
  },
  {
   "cell_type": "code",
   "execution_count": 69,
   "metadata": {},
   "outputs": [],
   "source": [
    "    displays = Composition()\n",
    "    displays.add_path([str, IPython.display.HTML])\n",
    "    displays.add_path([str, IPython.display.Markdown])\n",
    "    displays.add_path([str, IPython.display.Code])\n",
    "    displays.add_path([list, IPython.display.JSON])\n",
    "    displays.add_path([dict, IPython.display.JSON])\n",
    "    ado = networkx.compose(ado, displays)    "
   ]
  },
  {
   "cell_type": "code",
   "execution_count": 70,
   "metadata": {},
   "outputs": [
    {
     "data": {
      "text/plain": [
       "{PosixPath('.travis.yml'): IPython.lib.display.Code}"
      ]
     },
     "execution_count": 70,
     "metadata": {},
     "output_type": "execute_result"
    }
   ],
   "source": [
    "    await ado((IPython.display.Code, type), Path('.travis.yml'))"
   ]
  },
  {
   "cell_type": "code",
   "execution_count": 71,
   "metadata": {},
   "outputs": [],
   "source": [
    "    pd = Composition()\n",
    "    pd.add_path([Path, Mime('text/csv'), pandas.read_csv, pandas.DataFrame, pandas.DataFrame.transpose])\n",
    "    pd.add_path([pandas.Series, pandas.DataFrame])\n",
    "    pd.add_path([pandas.Series, dict])\n",
    "    ado = networkx.compose(ado, pd)"
   ]
  },
  {
   "cell_type": "code",
   "execution_count": 72,
   "metadata": {
    "scrolled": false
   },
   "outputs": [
    {
     "data": {
      "text/plain": [
       "{PosixPath('data.csv'):                     0           1           2           3           4   \\\n",
       " Unnamed: 0           0           1           2           3           4   \n",
       " index       ZRRVgPxAbg  qGdbMygKUl  MFEpsjeg81  Bc5QYEyyvO  HmTeNtf2KE   \n",
       " A             -1.13811    0.932169   -0.278003   -0.315296    -0.41495   \n",
       " B            -0.554226   0.0662085    0.804182   -0.558954   -0.107526   \n",
       " C            -0.303604    -1.12484    0.845789    0.703738   -0.243205   \n",
       " D            -0.304571     1.18461   -0.477547   -0.816047     0.85921   \n",
       " \n",
       "                     5           6           7           8           9   ...  \\\n",
       " Unnamed: 0           5           6           7           8           9  ...   \n",
       " index       64XpwGGKX4  FDGUaeSGrl  9bnZ4FYWx2  AwjEKKungG  NXaBII16Fj  ...   \n",
       " A             -1.29303   0.0666345    -1.32863     0.86664    0.414605  ...   \n",
       " B            -0.275852    -1.17587    0.703497    -1.45832    0.481333  ...   \n",
       " C             -2.29765    0.392907    -1.57246    0.891363    -2.16405  ...   \n",
       " D            -0.366217   -0.426007    0.137321    -1.17364   -0.597233  ...   \n",
       " \n",
       "                     20          21          22          23          24  \\\n",
       " Unnamed: 0          20          21          22          23          24   \n",
       " index       xwTl85EoQF  vXzvHqbkN9  HIVHjSMo0C  2P90ZEkuB4  t78MDAdN8q   \n",
       " A             0.375973   -0.666088    -1.82705   -0.624332  -0.0506713   \n",
       " B            -0.327619     1.51967    -1.29964    0.876575   -0.110464   \n",
       " C            -0.761711     0.84413  -0.0749852     -0.3664   -0.135025   \n",
       " D          -0.00921832   -0.409743    0.755613     -1.8391    0.340917   \n",
       " \n",
       "                     25          26          27          28          29  \n",
       " Unnamed: 0          25          26          27          28          29  \n",
       " index       twVQDkT4Ml  J3Xm342gpK  A0PPGcOKtR  NnuL0L7diK  Q8ZNWO1pjT  \n",
       " A             -2.76588    0.682396    -1.15344    0.899535     1.21765  \n",
       " B              1.14753    0.725946   -0.980484    0.761013    0.424012  \n",
       " C             -1.64376    -1.62894   -0.145673    0.274579    0.282331  \n",
       " D              2.17179  -0.0148665    -1.59233    0.278727      1.1311  \n",
       " \n",
       " [6 rows x 30 columns]}"
      ]
     },
     "execution_count": 72,
     "metadata": {},
     "output_type": "execute_result"
    }
   ],
   "source": [
    "    await ado(pandas.DataFrame.transpose, Path('data.csv'))"
   ]
  }
 ],
 "metadata": {
  "kernelspec": {
   "display_name": "p6",
   "language": "python",
   "name": "other-env"
  },
  "varInspector": {
   "cols": {
    "lenName": 16,
    "lenType": 16,
    "lenVar": 40
   },
   "kernels_config": {
    "python": {
     "delete_cmd_postfix": "",
     "delete_cmd_prefix": "del ",
     "library": "var_list.py",
     "varRefreshCmd": "print(var_dic_list())"
    },
    "r": {
     "delete_cmd_postfix": ") ",
     "delete_cmd_prefix": "rm(",
     "library": "var_list.r",
     "varRefreshCmd": "cat(var_dic_list()) "
    }
   },
   "types_to_exclude": [
    "module",
    "function",
    "builtin_function_or_method",
    "instance",
    "_Feature"
   ],
   "window_display": false
  }
 },
 "nbformat": 4,
 "nbformat_minor": 2
}
